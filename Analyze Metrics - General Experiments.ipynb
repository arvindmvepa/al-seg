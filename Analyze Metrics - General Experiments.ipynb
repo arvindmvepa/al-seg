{
 "cells": [
  {
   "cell_type": "code",
   "execution_count": null,
   "id": "b3375d3d",
   "metadata": {},
   "outputs": [],
   "source": [
    "import os\n",
    "import json\n",
    "import csv\n",
    "import pandas as pd\n",
    "import numpy as np\n",
    "import math\n",
    "pd.set_option('display.max_rows', None)\n",
    "pd.set_option('display.max_columns', None)"
   ]
  },
  {
   "cell_type": "code",
   "execution_count": null,
   "id": "6e819f0c",
   "metadata": {},
   "outputs": [],
   "source": [
    "results_csv_file = r\"/Users/admin/Documents/research/active learning/results/results_8_1_2024_lab.csv\""
   ]
  },
  {
   "cell_type": "code",
   "execution_count": null,
   "id": "a2eef2d3",
   "metadata": {},
   "outputs": [],
   "source": [
    "exp_df = pd.read_csv(results_csv_file)  \n",
    "ignore_string_in_name_lst = []\n",
    "include_string_in_name_lst = [\"sup\"]"
   ]
  },
  {
   "cell_type": "code",
   "execution_count": null,
   "id": "43c2484a",
   "metadata": {},
   "outputs": [],
   "source": [
    "included_exp_names = exp_df['exp'].tolist()"
   ]
  },
  {
   "cell_type": "code",
   "execution_count": null,
   "id": "b3c7e627",
   "metadata": {},
   "outputs": [],
   "source": [
    "def get_base_exp_name(exp_name):\n",
    "    exp_field = \"exp\"\n",
    "    exp_field_len_w_index = len(exp_field)+1\n",
    "    exp_field_index = exp_name.find(exp_field)\n",
    "    exp_name = exp_name[:exp_field_index]+exp_name[exp_field_index+exp_field_len_w_index:]\n",
    "    return exp_name"
   ]
  },
  {
   "cell_type": "code",
   "execution_count": null,
   "id": "e5164343",
   "metadata": {},
   "outputs": [],
   "source": [
    "exp_groups = dict()\n",
    "\n",
    "for exp_name in included_exp_names:\n",
    "    base_exp_name = get_base_exp_name(exp_name)\n",
    "    if base_exp_name in exp_groups:\n",
    "        exp_groups[base_exp_name] += [exp_name]\n",
    "    else:\n",
    "        exp_groups[base_exp_name] = [exp_name]"
   ]
  },
  {
   "cell_type": "code",
   "execution_count": null,
   "id": "1710a987",
   "metadata": {},
   "outputs": [],
   "source": [
    "exp_length = 5\n",
    "num_rounds = 10\n",
    "round_strings =  [\"round\" + str(round_num) + \"_test\" for round_num in range(num_rounds)]\n",
    "base_exp_names = list(exp_groups.keys())"
   ]
  },
  {
   "cell_type": "code",
   "execution_count": null,
   "id": "26c7f698",
   "metadata": {
    "scrolled": true
   },
   "outputs": [],
   "source": [
    "results_dict = {}\n",
    "\n",
    "for base_exp_name, exp_group in exp_groups.items():\n",
    "    continue_flag = False\n",
    "    for ignore_string_in_name in ignore_string_in_name_lst:\n",
    "        if ignore_string_in_name in base_exp_name:\n",
    "            continue_flag = True\n",
    "            break\n",
    "    for include_string_in_name in include_string_in_name_lst:\n",
    "        if include_string_in_name not in base_exp_name:\n",
    "            print(\"rejected, \", base_exp_name)\n",
    "            continue_flag = True\n",
    "            break\n",
    "    if continue_flag:\n",
    "        continue\n",
    "    exp_dict = {}\n",
    "    for i, run in enumerate(exp_group):\n",
    "        sub_df = exp_df.loc[exp_df['exp'] == run]\n",
    "        for round_string in round_strings:\n",
    "            val = sub_df[round_string].iloc[0]\n",
    "            if not math.isnan(val):\n",
    "                if round_string not in exp_dict:\n",
    "                    exp_dict[round_string] = [float(val)]\n",
    "                else:\n",
    "                    exp_dict[round_string] += [float(val)]\n",
    "    results_dict[base_exp_name] = exp_dict\n",
    "    print(\"accepted \", base_exp_name)"
   ]
  },
  {
   "cell_type": "code",
   "execution_count": null,
   "id": "eeee1018",
   "metadata": {},
   "outputs": [],
   "source": [
    "index = pd.Index(list(results_dict.keys()), name=\"exp_name\")\n",
    "round_counts_strings = [[round_string, f\"round{i}_count\"] for i, round_string in enumerate(round_strings)]\n",
    "mean_strings = round_strings[0:5]\n",
    "mean_strings = round_strings[1:5]\n",
    "#mean_strings = round_strings[0:4]\n",
    "mean_string_col = \"mean_test\"\n",
    "df = pd.DataFrame(index=index, \n",
    "                  columns=[mean_string_col] + sum(round_counts_strings, []))"
   ]
  },
  {
   "cell_type": "code",
   "execution_count": null,
   "id": "6f1e8f76",
   "metadata": {},
   "outputs": [],
   "source": [
    "for base_exp_name, results in results_dict.items():\n",
    "    sub_df = df.loc[base_exp_name]\n",
    "    results = results_dict[base_exp_name]\n",
    "    mean_result_list = []\n",
    "    for round_string, count_string in round_counts_strings:\n",
    "        if round_string in results:\n",
    "            round_results = results[round_string]\n",
    "            num_results = len(round_results)\n",
    "            mean_result = np.mean(round_results)\n",
    "            std_results = np.std(round_results, ddof=1)\n",
    "            mean_string = '%.3f' % mean_result\n",
    "            std_string = '%.3f'% std_results\n",
    "            sub_df[round_string] = f\"{mean_string}+/-{std_string}\"\n",
    "            sub_df[count_string] = num_results\n",
    "            if round_string in mean_strings:\n",
    "                mean_result_list.append(mean_result)\n",
    "        sub_df[mean_string_col] = np.sum(mean_result_list)/len(mean_result_list)"
   ]
  },
  {
   "cell_type": "code",
   "execution_count": null,
   "id": "1b1d1388",
   "metadata": {
    "scrolled": true
   },
   "outputs": [],
   "source": [
    "df\n",
    "df.sort_values(by=[mean_string_col], ascending=False)"
   ]
  },
  {
   "cell_type": "code",
   "execution_count": null,
   "id": "9892927c",
   "metadata": {},
   "outputs": [],
   "source": []
  }
 ],
 "metadata": {
  "kernelspec": {
   "display_name": "Python 3 (ipykernel)",
   "language": "python",
   "name": "python3"
  },
  "language_info": {
   "codemirror_mode": {
    "name": "ipython",
    "version": 3
   },
   "file_extension": ".py",
   "mimetype": "text/x-python",
   "name": "python",
   "nbconvert_exporter": "python",
   "pygments_lexer": "ipython3",
   "version": "3.8.19"
  }
 },
 "nbformat": 4,
 "nbformat_minor": 5
}
