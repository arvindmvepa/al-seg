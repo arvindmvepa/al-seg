{
 "cells": [
  {
   "cell_type": "code",
   "execution_count": null,
   "id": "b3375d3d",
   "metadata": {},
   "outputs": [],
   "source": [
    "import os\n",
    "import json\n",
    "import csv\n",
    "import pandas as pd\n",
    "import numpy as np"
   ]
  },
  {
   "cell_type": "code",
   "execution_count": null,
   "id": "6e819f0c",
   "metadata": {},
   "outputs": [],
   "source": [
    "results_csv_file = r\"/Users/arvin/Documents/ucla research/active learning/results/results_10_2_2023_merged_edited.csv\""
   ]
  },
  {
   "cell_type": "code",
   "execution_count": null,
   "id": "a2eef2d3",
   "metadata": {},
   "outputs": [],
   "source": [
    "exp_df = pd.read_csv(results_csv_file)  "
   ]
  },
  {
   "cell_type": "code",
   "execution_count": null,
   "id": "43c2484a",
   "metadata": {},
   "outputs": [],
   "source": [
    "included_exp_names = exp_df['exp'].tolist()"
   ]
  },
  {
   "cell_type": "code",
   "execution_count": null,
   "id": "1710a987",
   "metadata": {},
   "outputs": [],
   "source": [
    "models = [\"DMPLS\", \"DMPLS_MSHAH\", \"DMPLS_EM\", \"DMPLS_S2L\", \"strong\"]\n",
    "methods = [\"coreset\", \"db_bald\", \"db_entropy\", \"random\", \"coregcn\"]\n",
    "exp_length = 5\n",
    "num_rounds = 5\n",
    "round_strings =  [\"round\" + str(round_num) + \"_test\" for round_num in range(num_rounds)]"
   ]
  },
  {
   "cell_type": "code",
   "execution_count": null,
   "id": "26c7f698",
   "metadata": {},
   "outputs": [],
   "source": [
    "results_dict = {}\n",
    "\n",
    "# process weak supervision\n",
    "for model in models:\n",
    "    model_dict = {}\n",
    "    for method in methods:\n",
    "        method_dict = {}\n",
    "        for exp_num in range(exp_length):\n",
    "            if exp_num == 0:\n",
    "                exp_name = model + \"_exp_\" + method\n",
    "            else:\n",
    "                exp_name = model + \"_exp\" + str(exp_num) + \"_\" + method\n",
    "            if exp_name in included_exp_names:\n",
    "                sub_df = exp_df.loc[exp_df['exp'] == exp_name]\n",
    "                for round_string in round_strings:\n",
    "                    if round_string not in method_dict:\n",
    "                        method_dict[round_string] = [float(sub_df[round_string].item())]\n",
    "                    else:\n",
    "                        method_dict[round_string] += [float(sub_df[round_string].item())]\n",
    "        model_dict[method] = method_dict\n",
    "    results_dict[model] = model_dict\n",
    "\n",
    "# process strong supervision\n",
    "model_dict = dict()\n",
    "for method in methods:\n",
    "    method_dict = dict()\n",
    "    if method == \"random\":\n",
    "        method_ = \"\"\n",
    "    else:\n",
    "        method_ = \"_\" + method\n",
    "    for exp_num in range(exp_length):\n",
    "        if exp_num == 0:\n",
    "            exp_name = \"DMPLS_exp_strong\" + method_\n",
    "        else:\n",
    "            exp_name = \"DMPLS_exp\" + str(exp_num) + \"_strong\" + method_        \n",
    "        if exp_name in included_exp_names:\n",
    "            sub_df = exp_df.loc[exp_df['exp'] == exp_name]\n",
    "            \n",
    "            for round_string in round_strings:\n",
    "                if round_string not in method_dict:\n",
    "                    method_dict[round_string] = [float(sub_df[round_string].item())]\n",
    "                else:\n",
    "                    method_dict[round_string] += [float(sub_df[round_string].item())]\n",
    "    model_dict[method] = method_dict\n",
    "results_dict[\"strong\"] = model_dict"
   ]
  },
  {
   "cell_type": "code",
   "execution_count": null,
   "id": "f0899a74",
   "metadata": {},
   "outputs": [],
   "source": [
    "results_dict"
   ]
  },
  {
   "cell_type": "code",
   "execution_count": null,
   "id": "d221c785",
   "metadata": {},
   "outputs": [],
   "source": [
    "tuples_for_multiIndex =[(model, method) for model in models for method in methods] \n",
    "index = pd.MultiIndex.from_tuples(tuples_for_multiIndex, names=[\"model\", \"method\"])\n",
    "index"
   ]
  },
  {
   "cell_type": "code",
   "execution_count": null,
   "id": "eeee1018",
   "metadata": {},
   "outputs": [],
   "source": [
    "round_counts_strings = [[round_string, f\"round{i}_count\"] for i, round_string in enumerate(round_strings)]\n",
    "df = pd.DataFrame(index=index, columns=sum(round_counts_strings, []))"
   ]
  },
  {
   "cell_type": "code",
   "execution_count": null,
   "id": "6f1e8f76",
   "metadata": {},
   "outputs": [],
   "source": [
    "for model in models:\n",
    "    for method in methods:\n",
    "        sub_df = df.loc[model, method]\n",
    "        results = results_dict[model][method]\n",
    "        for round_string, count_string in round_counts_strings:\n",
    "            if round_string in results:\n",
    "                print(f\"model: {model}, method: {method}, round_string: {round_string}, results: {results[round_string]}\")\n",
    "                round_results = results[round_string]\n",
    "                num_results = len(round_results)\n",
    "                mean_result = np.mean(round_results)\n",
    "                std_results = np.std(round_results, ddof=1)\n",
    "                mean_string = '%.3f' % mean_result\n",
    "                std_string = '%.3f'% std_results\n",
    "                sub_df[round_string] = f\"{mean_string}+/-{std_string}\"\n",
    "                sub_df[count_string] = num_results"
   ]
  },
  {
   "cell_type": "code",
   "execution_count": null,
   "id": "1b1d1388",
   "metadata": {},
   "outputs": [],
   "source": [
    "df"
   ]
  },
  {
   "cell_type": "code",
   "execution_count": null,
   "id": "9892927c",
   "metadata": {},
   "outputs": [],
   "source": []
  }
 ],
 "metadata": {
  "kernelspec": {
   "display_name": "Python 3 (ipykernel)",
   "language": "python",
   "name": "python3"
  },
  "language_info": {
   "codemirror_mode": {
    "name": "ipython",
    "version": 3
   },
   "file_extension": ".py",
   "mimetype": "text/x-python",
   "name": "python",
   "nbconvert_exporter": "python",
   "pygments_lexer": "ipython3",
   "version": "3.9.12"
  }
 },
 "nbformat": 4,
 "nbformat_minor": 5
}
